# QUESTION1:
fav_movies= ['inseption','Moon fall', 'jack sparo', 'john wick','the equalizer']
print(fav_movies)
for movies in fav_movies:
    print(movies)
# now Iterate over the list and print each movie title.
for index in range(len(fav_movies)):
    print(f'{index}: {fav_movies[index]}')


output:
['inseption', 'Moon fall', 'jack sparo', 'john wick', 'the equalizer']
inseption
Moon fall
jack sparo
john wick
the equalizer
0: inseption
1: Moon fall
2: jack sparo
3: john wick
4: the equalizer






# question2:
full_name= "Muhammad Sahal"
for name in full_name:
    print(name)
name = "Sahal Rajpoot"
vowels ="aeiouAEIOU"
count = sum(name.count(v) for v in vowels)
print(count)


output:
M
u
h
a
m
m
a
d
 
S
a
h
a
l
5
